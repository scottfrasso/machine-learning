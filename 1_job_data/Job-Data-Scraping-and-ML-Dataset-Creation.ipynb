{
 "cells": [
  {
   "cell_type": "markdown",
   "id": "501f6071",
   "metadata": {},
   "source": [
    "# Scrape Job data and try to predict Max Salary\n",
    "\n",
    "I scraped the Hiring Cafe website for remote jobs in Poland (where I live) to get job descriptions with salaries. Then I fed that data into Chat GPT and had it spit out some data points about each job description. Then I used Pandas to massage the data into something that could be fed into a Machine Learning estimator (RandomForestClassifier) and was able to predict with around 72% accuracy what the salary should be if given just a job description.\n",
    "\n",
    "### Improvements I could make to this\n",
    "\n",
    "I could:\n",
    "<ul>\n",
    "    <li>Gather a lot more data from different sites. </li>\n",
    "    <li>Play around with different estimators from sklearn.</li>\n",
    "    <li>Gather more data points from the job description using Chat GPT.</li>\n",
    "    <li>Gather data about the size of the company, startups might pay differently than larger companies.</li>\n",
    "</ul>\n",
    "\n",
    "\n",
    "### Notes\n",
    "\n",
    "I am doing a Machine Learning / AI course on my own time and this is the first thing I decided to try out while going through the course. As I progress through the course I'll do more little projects and maybe come back to this one to get the score higher or use different estimat"
   ]
  },
  {
   "cell_type": "code",
   "execution_count": 66,
   "id": "ccdfe7a7",
   "metadata": {},
   "outputs": [],
   "source": [
    "%%capture\n",
    "%pip install algoliasearch\n",
    "%pip install langchain\n",
    "%pip install openai\n",
    "\n",
    "import os\n",
    "import time\n",
    "import requests\n",
    "import json\n",
    "import html\n",
    "import re\n",
    "from typing import Optional\n",
    "\n",
    "\n",
    "import pandas as pd\n",
    "from sklearn.ensemble import RandomForestClassifier\n",
    "from sklearn.model_selection import train_test_split\n",
    "from sklearn.metrics import accuracy_score\n",
    "\n",
    "from langchain.chat_models import ChatOpenAI\n",
    "from langchain.schema import SystemMessage, HumanMessage\n",
    "\n",
    "from pydantic import BaseModel, Field\n",
    "from algoliasearch.search_client import SearchClient\n",
    "\n",
    "os.environ['OPENAI_API_KEY'] = '<Open AI Key goes here>'"
   ]
  },
  {
   "cell_type": "code",
   "execution_count": 67,
   "id": "8cd39138",
   "metadata": {},
   "outputs": [],
   "source": [
    "# Some helper functions and pydantic models to store the data in\n",
    "def unescape_html(text):\n",
    "    return html.unescape(text)\n",
    "\n",
    "def strip_html_tags(text: str) -> str:\n",
    "    clean = re.compile('<.*?>')\n",
    "    return re.sub(clean, ' ', text)\n",
    "\n",
    "class CompanyInfo(BaseModel):\n",
    "    name: Optional[str]\n",
    "    description: Optional[str]\n",
    "\n",
    "class HighlightResult(BaseModel):\n",
    "    value: Optional[str]\n",
    "    matchLevel: Optional[str]\n",
    "    matchedWords: list[str]\n",
    "\n",
    "class JobData(BaseModel):\n",
    "    path: Optional[str]\n",
    "    board_token: Optional[str]\n",
    "    job_id: Optional[str]\n",
    "    job_title: Optional[str]\n",
    "    job_location: Optional[str]\n",
    "    gptApplied: bool\n",
    "    source: Optional[str]\n",
    "    job_description: Optional[str]\n",
    "    companyInfo: CompanyInfo\n",
    "    dateFetched: int\n",
    "    about_company: Optional[str]\n",
    "    responsibilities: Optional[str]\n",
    "    requirements: Optional[str]\n",
    "    tech_stack: Optional[str]\n",
    "    salary_range: Optional[str]\n",
    "    job_type: Optional[str]\n",
    "    applyUrl: Optional[str]\n",
    "    isSalaryAvailable: bool\n",
    "    industry: Optional[str]\n",
    "    role: Optional[str]\n",
    "    min_years_experience: int\n",
    "    country: Optional[str]\n",
    "    isRemote: bool\n",
    "    addressLocality: Optional[str]\n",
    "    _geoloc: dict\n",
    "    objectID: Optional[str]\n",
    "    _highlightResult: dict[str, HighlightResult]\n",
    "\n",
    "    @classmethod\n",
    "    def from_json(cls, json_data):\n",
    "        # Here you can perform any data transformations you need\n",
    "        job_description_html = html.unescape(json_data['job_description'])\n",
    "        stripped_job_description = strip_html_tags(job_description_html)\n",
    "        json_data['job_description'] = stripped_job_description\n",
    "        return cls(**json_data)"
   ]
  },
  {
   "cell_type": "markdown",
   "id": "48b2b6fa",
   "metadata": {},
   "source": [
    "## This is how you can query Hiring Cafe Data"
   ]
  },
  {
   "cell_type": "code",
   "execution_count": 96,
   "id": "2443f2e2",
   "metadata": {},
   "outputs": [
    {
     "name": "stdout",
     "output_type": "stream",
     "text": [
      "found 129 hits\n"
     ]
    }
   ],
   "source": [
    "# These aren't my keys, these are just freely available on Hiring Cafe if you look at the network traffic on the site\n",
    "client = SearchClient.create('8HEMFGMPST', '360c8026d33e372e6b37d18b177f7df5')\n",
    "index = client.init_index('HiringCafe-V2')\n",
    "\n",
    "query_list = [\"Python\", \"TypeScript\", \"Java\", \"C#\"]\n",
    "filters = (\"isRemote:true AND gptApplied:true AND country:'PL' AND job_type:'Full Time' AND \"\n",
    "           \"role:'Engineering' AND isSalaryAvailable:true\")\n",
    "\n",
    "hits_per_page = 20\n",
    "all_hits = []\n",
    "\n",
    "for query in query_list:   \n",
    "    page = 0\n",
    "    total_pages = 20 # Don't do more than 20 pages\n",
    "  \n",
    "    while page < total_pages:\n",
    "        response = index.search(query, {\n",
    "            'filters': filters,\n",
    "            'page': page,\n",
    "            'hitsPerPage': hits_per_page\n",
    "        })\n",
    "        \n",
    "        total_pages = min(response['nbPages'], total_pages)\n",
    "        hits = response['hits']\n",
    "        if not hits:\n",
    "            break\n",
    "        all_hits.extend(hits)\n",
    "        page += 1\n",
    "    \n",
    "        # Sleep so we don't overload the server with requests\n",
    "        time.sleep(2)\n",
    "    \n",
    "print(f\"found {len(all_hits)} hits\")"
   ]
  },
  {
   "cell_type": "markdown",
   "id": "f186fe95",
   "metadata": {},
   "source": [
    "## Store the job data\n",
    "\n",
    "We need to store the job data somewhere and also we need to store the data in a way that we can re-run the cell with the chat gpt calls without re-doing all of them if needed."
   ]
  },
  {
   "cell_type": "code",
   "execution_count": null,
   "id": "8e898775",
   "metadata": {},
   "outputs": [],
   "source": [
    "all_job_data = []\n",
    "job_ids_done = []"
   ]
  },
  {
   "cell_type": "markdown",
   "id": "b1dad85a",
   "metadata": {},
   "source": [
    "## Use Chat GPT to extract data points about the job description"
   ]
  },
  {
   "cell_type": "code",
   "execution_count": null,
   "id": "a90a11c2",
   "metadata": {},
   "outputs": [],
   "source": [
    "system_prompt = \"\"\"\n",
    "Given a job description extract information about the job and put it into a JSON object.\n",
    "\n",
    "The keys are as follows:\n",
    "\"work_style\" - \"remote\", \"hybrid\" if the job allows working from home a few days per week, or \"onsite\" if you're unsure just use \"onsite\"\n",
    "\"salary_currency\" - \"PLN\", \"EUR\", \"USD\"\n",
    "\"salary_minimum_hourly\" - if it exists as an hourly salary\n",
    "\"salary_maximum_hourly\" - if it exists as an hourly salary\n",
    "\"salary_minimum_monthly\" - if it exists as a monthly salary\n",
    "\"salary_maximum_monthly\" - if it exists as a monthly salary\n",
    "\"salary_minimum_yearly\" - if it exists as a yearly salary\n",
    "\"salary_maximum_yearly\" - if it exists as a yearly salary\n",
    "\"title\" - the job title\n",
    "\"company_name\" - the company name\n",
    "\"level_of_experiene\" - the total number of years someone should be experienced\n",
    "\"primary_language\" - the primary language for the job\n",
    "“level_of_experience_in_language” - Given the primary language put the value 1 if asking for 0-1 years of experience with a language or a ‘willingness to learn’ or ‘general understanding of’, 2 if they are asking for 2-4 years in a language or “a proven ability” in the language, 5 if they are asking for 5+ years if they are asking for “mastery”of the language of “proven track record of success in” the language\n",
    "\"level_of_experience_in_platform\" - the total number of years someone should be experienced in a particular platform, use the maxmium you can find\n",
    "\n",
    "For the following keys use true if the requirement is mentioned and false if it is not:\n",
    "\"is_freelance\" - true if the job mentions hourly pay and is a freelance job, 0 if the job is a full time long term position\n",
    "\"on_call\" - true if it mentions being on-call\n",
    "\"system_architecture\" if the job requires architecting large systems\n",
    "\"aws_experience\" - true if the job mentions it requires experience with AWS\n",
    "\"gcp_experience\" - true if the job mentions it requires experience with GCP or Google Cloud Platform\n",
    "\"azure_experience\" - true if the job mentions it requires experience with Azure\n",
    "\"dev_ops\" - true if the job mentions you'll have to do devops work\n",
    "\"front_end_work\" - true if the job mentions you'll have to do front end work\n",
    "\"backend_work\" - true if the job mentions you'll have to do backend work\n",
    "\"full_stack_work\" - true if the job mentions you'll have to do full stack work including front-end, backend and devops.\n",
    "\"tech_lead\" - true if the job mentions you'll have to lead a team of developers\n",
    "\"project_leadership\" - true if the job mentions you'll have to lead a project\n",
    "\"unlimited_time_off\" true if it mentions anything about unlimited time off\n",
    "\"has_benefits\" true if it mentions you get benefits like budget for self development or conferences, or private medical insurance, or a gym membership\n",
    "\"education\" 'NoCollege' if no college is required, 'MS/BS' if a MS/BS in Comp science or Engineering or equivalent experience, 'SpecificHigherEd' if MS/BS/PhD in something other than Computer Science - its a specialized job like something to do with \n",
    "\n",
    "\n",
    "Example:\n",
    "{'work_style': 'remote',\n",
    " 'salary_currency': 'PLN',\n",
    " 'salary_minimum_yearly': 184000,\n",
    " 'salary_maximum_yearly': 249000,\n",
    " 'title': 'Senior .NET Software Engineer - Matter Admin',\n",
    " 'company_name': 'Legal technology company',\n",
    " 'level_of_experience': 5,\n",
    " 'primary_language': '.NET',\n",
    " 'level_of_experience_in_language': 5,\n",
    " 'level_of_experience_in_platform': 5,\n",
    " 'is_freelance': 0,\n",
    " 'on_call': 0,\n",
    " 'system_architecture': 0,\n",
    " 'aws_experience': 0,\n",
    " 'gcp_experience': 0,\n",
    " 'azure_experience': 1,\n",
    " 'dev_ops': 0,\n",
    " 'front_end_work': 0,\n",
    " 'backend_work': 1,\n",
    " 'full_stack_work': 1,\n",
    " 'tech_lead': 0,\n",
    " 'project_leadership': 0,\n",
    " 'unlimited_time_off': 1,\n",
    " 'has_benefits': 1,\n",
    " 'education': 'NoCollege'\n",
    "}\n",
    "\"\"\"\n",
    "\n",
    "system_message = SystemMessage(content=system_prompt)\n",
    "llm = ChatOpenAI(temperature=0, model=\"gpt-3.5-turbo\")\n",
    "\n",
    "for i in range(len(all_hits[:2])):\n",
    "    hit = all_hits[i]\n",
    "    job_data = JobData.from_json(hit)\n",
    "    print(f\"Doing {i} of {len(all_hits)}\")\n",
    "    \n",
    "    if job_data.job_id in job_ids_done:\n",
    "        print(\"Already done\")\n",
    "        continue\n",
    "\n",
    "    job_query = f\"\"\"\n",
    "    Title: {job_data.job_title}\n",
    "    Location: {job_data.job_location}\n",
    "    Salary: {job_data.salary_range}\n",
    "    Type: {job_data.job_type}\n",
    "    Minimum Years of Experience: {job_data.min_years_experience}\n",
    "    Responsibilities: {job_data.responsibilities}\n",
    "    Description: {job_data.job_description}\n",
    "    Requirements: {job_data.requirements}\n",
    "    Tech Stack: {job_data.tech_stack}\n",
    "    About company: {job_data.about_company}\n",
    "    \"\"\"\n",
    "    human_message = HumanMessage(content=job_query)\n",
    "    response = llm.predict_messages(messages=[system_message, human_message])\n",
    "    raw_job_data = json.loads(response.content)\n",
    "    \n",
    "    raw_job_data[\"job_id\"] = job_data.job_id\n",
    "    all_job_data.append(raw_job_data)\n",
    "\n",
    "    job_ids_done.append(job_data.job_id)\n",
    "    \n",
    "print(f\"Finished with {len(all_job_data)} job descriptions parsed\")"
   ]
  },
  {
   "cell_type": "markdown",
   "id": "742f0310",
   "metadata": {},
   "source": [
    "## Load all the data into Pandas"
   ]
  },
  {
   "cell_type": "code",
   "execution_count": 69,
   "id": "b0776a58",
   "metadata": {},
   "outputs": [],
   "source": [
    "# Use the data we just got from chat gpt\n",
    "df = pd.DataFrame(all_job_data)\n",
    "\n",
    "# Or use the data that was saved from a previous run\n",
    "#df = pd.read_json('all_job_data.json', orient='records', lines=True)"
   ]
  },
  {
   "cell_type": "markdown",
   "id": "f2285eb4",
   "metadata": {},
   "source": [
    "## Fill in the Workstyles that might be missing"
   ]
  },
  {
   "cell_type": "code",
   "execution_count": 70,
   "id": "233a5c96",
   "metadata": {},
   "outputs": [],
   "source": [
    "df[\"work_style\"].fillna(\"onsite\", inplace=True)"
   ]
  },
  {
   "cell_type": "markdown",
   "id": "61fd2695",
   "metadata": {},
   "source": [
    "## Normalize the salaries\n",
    "We only care about the max salary for this."
   ]
  },
  {
   "cell_type": "code",
   "execution_count": 71,
   "id": "2c52ce30",
   "metadata": {},
   "outputs": [],
   "source": [
    "allowed_currencies = [\"USD\", \"PLN\", \"EUR\"]\n",
    "df.loc[~df[\"salary_currency\"].isin(allowed_currencies), \"salaryCurrency\"] = \"PLN\"\n",
    "\n",
    "# df[\"salaryCurrency\"].fillna(\"PLN\", inplace=True)\n",
    "currency_to_pln = {\"PLN\": 1, \"USD\": 4, \"EUR\": 4.5}\n",
    "for currency, conversion_rate in currency_to_pln.items():\n",
    "    conversion_rate = currency_to_pln[currency]\n",
    "    mask = df[\"salary_currency\"] == currency\n",
    "    # Max\n",
    "    df.loc[mask, \"salary_maximum_hourly\"] *= conversion_rate\n",
    "    df.loc[mask, \"salary_maximum_monthly\"] *= conversion_rate\n",
    "    df.loc[mask, \"salary_maximum_yearly\"] *= conversion_rate\n",
    "    # Min\n",
    "    df.loc[mask, \"salary_minimum_hourly\"] *= conversion_rate\n",
    "    df.loc[mask, \"salary_minimum_monthly\"] *= conversion_rate\n",
    "    df.loc[mask, \"salary_minimum_yearly\"] *= conversion_rate\n",
    "\n",
    "# Max Salary\n",
    "df[\"salary_maximum_monthly\"].fillna(df[\"salary_maximum_hourly\"] * 40 * 4, inplace=True)\n",
    "df[\"salary_maximum_monthly\"].fillna(df[\"salary_maximum_yearly\"] / 12, inplace=True)\n",
    "\n",
    "df.drop([\"salary_maximum_hourly\", \"salary_maximum_yearly\"], axis=1, inplace=True)\n",
    "\n",
    "# Min Salary\n",
    "df[\"salary_minimum_monthly\"].fillna(df[\"salary_minimum_hourly\"] * 40 * 4, inplace=True)\n",
    "df[\"salary_minimum_monthly\"].fillna(df[\"salary_minimum_yearly\"] / 12, inplace=True)\n",
    "\n",
    "df.drop([\"salary_minimum_hourly\", \"salary_minimum_yearly\"], axis=1, inplace=True)\n",
    "\n",
    "df.drop(\n",
    "    [\"salary_currency\", \"title\", \"company_name\", \"job_id\", \"salaryCurrency\" ],\n",
    "    axis=1,\n",
    "    inplace=True,\n",
    ")"
   ]
  },
  {
   "cell_type": "markdown",
   "id": "940be46d",
   "metadata": {},
   "source": [
    "## Drop anything that might have been a hallucination"
   ]
  },
  {
   "cell_type": "code",
   "execution_count": 72,
   "id": "84613d53",
   "metadata": {},
   "outputs": [],
   "source": [
    "columns_to_keep = ['work_style', 'salary_maximum_monthly', 'level_of_experience',\n",
    "       'primary_language', 'level_of_experience_in_language',\n",
    "       'level_of_experience_in_platform', 'is_freelance', 'on_call',\n",
    "       'system_architecture', 'aws_experience', 'gcp_experience',\n",
    "       'azure_experience', 'dev_ops', 'front_end_work', 'backend_work',\n",
    "       'full_stack_work', 'tech_lead', 'project_leadership',\n",
    "       'unlimited_time_off', 'has_benefits', 'education']\n",
    "\n",
    "columns_to_drop = [col for col in df.columns if col not in columns_to_keep]\n",
    "\n",
    "df.drop(columns=columns_to_drop, inplace=True)\n"
   ]
  },
  {
   "cell_type": "markdown",
   "id": "a568e6a4",
   "metadata": {},
   "source": [
    "## Drop rows without some of the most important data"
   ]
  },
  {
   "cell_type": "code",
   "execution_count": 73,
   "id": "e485987e",
   "metadata": {},
   "outputs": [],
   "source": [
    "df = df.dropna(subset=[\"salary_maximum_monthly\", \"primary_language\", \"level_of_experience_in_language\", \"level_of_experience_in_platform\"])"
   ]
  },
  {
   "cell_type": "markdown",
   "id": "87f66cc9",
   "metadata": {},
   "source": [
    "## Convert any columns with floats into int's, sometimes Chat GPT spits out floats instead of ints"
   ]
  },
  {
   "cell_type": "code",
   "execution_count": 74,
   "id": "4455d742",
   "metadata": {},
   "outputs": [],
   "source": [
    "# Get columns with float dtype, but not int dtype\n",
    "float_columns = df.select_dtypes(include=['float64'], exclude=['int64']).columns.tolist()\n",
    "\n",
    "# Convert those columns to int\n",
    "for col in float_columns:\n",
    "    df.loc[:, col] = df[col].astype('int')"
   ]
  },
  {
   "cell_type": "markdown",
   "id": "fa5b6ee4",
   "metadata": {},
   "source": [
    "## One Hot Encode the categorical columns"
   ]
  },
  {
   "cell_type": "code",
   "execution_count": 77,
   "id": "c5e880dd",
   "metadata": {},
   "outputs": [],
   "source": [
    "df = pd.get_dummies(df, columns=['work_style', 'primary_language', 'education'])"
   ]
  },
  {
   "cell_type": "markdown",
   "id": "5e54a6bf",
   "metadata": {},
   "source": [
    "## Split it into Training and Test Data"
   ]
  },
  {
   "cell_type": "code",
   "execution_count": 80,
   "id": "e56c40f2",
   "metadata": {},
   "outputs": [],
   "source": [
    "X = df.drop([\"salary_maximum_monthly\"], axis=1)\n",
    "y = df[\"salary_maximum_monthly\"]\n",
    "\n",
    "\n",
    "X_train, X_test, y_train, y_test = train_test_split(X, y, test_size=0.2, random_state=42)"
   ]
  },
  {
   "cell_type": "markdown",
   "id": "cfb84da7",
   "metadata": {},
   "source": [
    "## Using RandomForestClassifier"
   ]
  },
  {
   "cell_type": "code",
   "execution_count": 101,
   "id": "bb456ede",
   "metadata": {},
   "outputs": [
    {
     "name": "stdout",
     "output_type": "stream",
     "text": [
      "n_estimators=100, Accuracy:0.7142857142857143\n"
     ]
    }
   ],
   "source": [
    "n_estimators = 100\n",
    "\n",
    "clf = RandomForestClassifier(n_estimators=n_estimators, random_state=42)\n",
    "clf.fit(X_train, y_train)\n",
    "\n",
    "y_pred = clf.predict(X_test)\n",
    "print(f\"n_estimators={n_estimators}, Accuracy:{accuracy_score(y_test, y_pred)}\")"
   ]
  }
 ],
 "metadata": {
  "kernelspec": {
   "display_name": "Python 3 (ipykernel)",
   "language": "python",
   "name": "python3"
  },
  "language_info": {
   "codemirror_mode": {
    "name": "ipython",
    "version": 3
   },
   "file_extension": ".py",
   "mimetype": "text/x-python",
   "name": "python",
   "nbconvert_exporter": "python",
   "pygments_lexer": "ipython3",
   "version": "3.11.5"
  }
 },
 "nbformat": 4,
 "nbformat_minor": 5
}
